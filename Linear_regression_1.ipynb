{
 "cells": [
  {
   "cell_type": "markdown",
   "metadata": {},
   "source": [
    "# Linear Regression"
   ]
  },
  {
   "cell_type": "markdown",
   "metadata": {},
   "source": [
    "*Introduction*\n",
    "\n",
    "If we assume that an output data we are interested in is linearly dependent on one or more input data, we can model it using linear regression (you may know this as 'fitting a straight line' to a dataset).\n",
    "\n",
    "This notebook will introduce how to do linear regression in python, and assumes that you know no python. "
   ]
  },
  {
   "cell_type": "markdown",
   "metadata": {},
   "source": [
    "First we must import relevant packages (see the next box):\n",
    "\n",
    "`numpy` is numerical python, and has lots of mathematical functions we will need.\n",
    "\n",
    "`pandas` is used to import data\n",
    "\n",
    "`matplotlib` allows us to plot things\n",
    "\n",
    "`skikitlearn` allows us to fit data and do data science and machine learning.\n",
    "\n",
    "Note that, to avoid a lot of typing, we give the packages and shorter name, ie. `np'."
   ]
  },
  {
   "cell_type": "code",
   "execution_count": 11,
   "metadata": {
    "collapsed": true
   },
   "outputs": [],
   "source": [
    "import numpy as np\n",
    "import pandas as pd\n",
    "from matplotlib import pyplot as plt\n",
    "%matplotlib inline  "
   ]
  },
  {
   "cell_type": "markdown",
   "metadata": {},
   "source": [
    "Now, we want some data to fit, for this example, I will generate some data (don't worry about this, we generally want to read in an fit real data rather than generate it!)."
   ]
  },
  {
   "cell_type": "markdown",
   "metadata": {},
   "source": [
    "# Getting the data"
   ]
  },
  {
   "cell_type": "code",
   "execution_count": 2,
   "metadata": {
    "collapsed": true
   },
   "outputs": [],
   "source": [
    "# Generate 'random' data\n",
    "np.random.seed(0)\n",
    "x = 2.5 * np.random.randn(100) + 1.5   # Array of 100 values with mean = 1.5, stddev = 2.5\n",
    "res = 0.5 * np.random.randn(100)       # Generate 100 residual terms\n",
    "y = 2 + 0.3 * x + res                  # Actual values of Y"
   ]
  },
  {
   "cell_type": "markdown",
   "metadata": {},
   "source": [
    "Now we've made some random data called x and y, which is an array. To have a quick look at it, type x into the blank cell below and hit cntl-enter"
   ]
  },
  {
   "cell_type": "code",
   "execution_count": 3,
   "metadata": {
    "collapsed": false
   },
   "outputs": [
    {
     "data": {
      "text/plain": [
       "array([ 5.91013086,  2.50039302,  3.94684496,  7.102233  ,  6.16889498,\n",
       "       -0.9431947 ,  3.87522104,  1.12160698,  1.24195287,  2.52649625,\n",
       "        1.86010893,  5.13568377,  3.40259431,  1.80418754,  2.60965808,\n",
       "        2.33418582,  5.23519768,  0.98710434,  2.28266925, -0.63523935,\n",
       "       -4.88247454,  3.13404649,  3.6610905 , -0.35541255,  7.17438656,\n",
       "       -2.13591419,  1.61439629,  1.03204037,  5.33194804,  5.17339692,\n",
       "        1.88736856,  2.4454063 , -0.71946437, -3.45199117,  0.63021963,\n",
       "        1.89087242,  4.5757267 ,  4.50594962,  0.53168296,  0.74424312,\n",
       "       -1.12138241, -2.05004484, -2.76567548,  6.37693849,  0.22586955,\n",
       "        0.40481425, -1.6319884 ,  3.44372589, -2.53474462,  0.9681493 ,\n",
       "       -0.7386664 ,  2.46725624,  0.22298716, -1.45158046,  1.42954443,\n",
       "        2.57082968,  1.66629306,  2.25617974, -0.08580523,  0.59314709,\n",
       "       -0.18115112,  0.6011171 , -0.53286571, -2.81570651,  1.94356536,\n",
       "        0.49554766, -2.57549587,  2.65695564, -0.76824591,  1.62986349,\n",
       "        3.32272641,  1.82245728,  4.34850171, -1.58706455,  2.5058541 ,\n",
       "       -0.21202523, -0.67699287,  0.05287584,  0.72111867,  1.64041336,\n",
       "       -1.4128746 ,  3.75206622,  2.6641561 , -2.34060922,  5.22063048,\n",
       "        6.23972294,  4.44694893,  1.05018791, -1.17688155,  4.13612932,\n",
       "        0.49205763,  4.55611268,  2.02068745,  3.94159759,  2.39091599,\n",
       "        3.26643292,  1.52625005,  5.96467623,  1.81728023,  2.50497341])"
      ]
     },
     "execution_count": 3,
     "metadata": {},
     "output_type": "execute_result"
    }
   ],
   "source": []
  },
  {
   "cell_type": "markdown",
   "metadata": {},
   "source": [
    "# Organising our data"
   ]
  },
  {
   "cell_type": "markdown",
   "metadata": {},
   "source": [
    "Pandas has something called a 'DataFrame' which will hold our x and y data (think of it like columns in an excel spreadsheet). We have our data, `x` and `y`, but, like an excel spreadsheet, we want to label our columns. To do this we make something called a *dictionary*, as below. Here, we've mapped the label X to the data x, and label Y to the data y, note the '' around 'X' and 'Y', this makes these letters a string (i.e. text), rather than anything else. The labels 'X' and 'Y' are the *keys* to the dictionary."
   ]
  },
  {
   "cell_type": "code",
   "execution_count": 4,
   "metadata": {
    "collapsed": true
   },
   "outputs": [],
   "source": [
    "data={'X': x, 'Y': y}"
   ]
  },
  {
   "cell_type": "markdown",
   "metadata": {},
   "source": [
    "Again, why not have a quick look at what this data is by typing `data` in the box below. "
   ]
  },
  {
   "cell_type": "code",
   "execution_count": null,
   "metadata": {
    "collapsed": true
   },
   "outputs": [],
   "source": []
  },
  {
   "cell_type": "markdown",
   "metadata": {},
   "source": [
    "To get the data back out of our dictionary, we give the dictionary the key using square brackets, like this: `dictionary[key]`. If we wanted the y data back, we would use the key like this: `data['Y']`. Try it out below: "
   ]
  },
  {
   "cell_type": "code",
   "execution_count": null,
   "metadata": {
    "collapsed": true
   },
   "outputs": [],
   "source": []
  },
  {
   "cell_type": "markdown",
   "metadata": {},
   "source": [
    "OK, now we want our data organised in a better way. In pandas we use a `DataFrame` to organise our data."
   ]
  },
  {
   "cell_type": "code",
   "execution_count": 5,
   "metadata": {
    "collapsed": true
   },
   "outputs": [],
   "source": [
    "# Create pandas dataframe to store our X and y values\n",
    "df = pd.DataFrame(data)"
   ]
  },
  {
   "cell_type": "markdown",
   "metadata": {},
   "source": [
    "Now, lets look at our dataframe and see the data! `df.head()` will show us the top few entries. `df.tail()` will show us the last few. "
   ]
  },
  {
   "cell_type": "code",
   "execution_count": 6,
   "metadata": {
    "collapsed": false
   },
   "outputs": [
    {
     "data": {
      "text/html": [
       "<div>\n",
       "<table border=\"1\" class=\"dataframe\">\n",
       "  <thead>\n",
       "    <tr style=\"text-align: right;\">\n",
       "      <th></th>\n",
       "      <th>X</th>\n",
       "      <th>Y</th>\n",
       "    </tr>\n",
       "  </thead>\n",
       "  <tbody>\n",
       "    <tr>\n",
       "      <th>0</th>\n",
       "      <td>5.910131</td>\n",
       "      <td>4.714615</td>\n",
       "    </tr>\n",
       "    <tr>\n",
       "      <th>1</th>\n",
       "      <td>2.500393</td>\n",
       "      <td>2.076238</td>\n",
       "    </tr>\n",
       "    <tr>\n",
       "      <th>2</th>\n",
       "      <td>3.946845</td>\n",
       "      <td>2.548811</td>\n",
       "    </tr>\n",
       "    <tr>\n",
       "      <th>3</th>\n",
       "      <td>7.102233</td>\n",
       "      <td>4.615368</td>\n",
       "    </tr>\n",
       "    <tr>\n",
       "      <th>4</th>\n",
       "      <td>6.168895</td>\n",
       "      <td>3.264107</td>\n",
       "    </tr>\n",
       "  </tbody>\n",
       "</table>\n",
       "</div>"
      ],
      "text/plain": [
       "          X         Y\n",
       "0  5.910131  4.714615\n",
       "1  2.500393  2.076238\n",
       "2  3.946845  2.548811\n",
       "3  7.102233  4.615368\n",
       "4  6.168895  3.264107"
      ]
     },
     "execution_count": 6,
     "metadata": {},
     "output_type": "execute_result"
    }
   ],
   "source": [
    "# Show the first five rows of our dataframe\n",
    "df.head()"
   ]
  },
  {
   "cell_type": "markdown",
   "metadata": {},
   "source": [
    "Note that, unlike excel, python starts numbering things with 0, as in 0,1,2,3, ... 99 rather than starting with 1, as in 1,2,3,4, ... 100 so our first row is numbered 0."
   ]
  },
  {
   "cell_type": "markdown",
   "metadata": {},
   "source": [
    "You can look at the last 5 rows in our dataframe `df` by type `df.tail()` in the box below."
   ]
  },
  {
   "cell_type": "code",
   "execution_count": null,
   "metadata": {
    "collapsed": true
   },
   "outputs": [],
   "source": []
  },
  {
   "cell_type": "markdown",
   "metadata": {},
   "source": [
    "*Aside on python:*\n",
    "    \n",
    "When you see something like `x.fun()`, this is a function. Some functions take inputs which would go in the brackets, like `pd.DataFrame()` above which took in `data`, which took in our arrays `x` and `y` along with the labels X and Y. `df.head()` doesn't need an input, but we must still use the `()` so python knows we are trying to call a function."
   ]
  },
  {
   "cell_type": "markdown",
   "metadata": {},
   "source": [
    "Let's plot our data. DataFrames have the function `plot.scatter()` which we call by writing `df.plot.scatter()`, and telling it which two columns to plot against each other by using the label."
   ]
  },
  {
   "cell_type": "code",
   "execution_count": 12,
   "metadata": {
    "collapsed": false
   },
   "outputs": [
    {
     "data": {
      "text/plain": [
       "<matplotlib.axes._subplots.AxesSubplot at 0x213bb5c1be0>"
      ]
     },
     "execution_count": 12,
     "metadata": {},
     "output_type": "execute_result"
    },
    {
     "data": {
      "image/png": "[encoded data removed]",
      "text/plain": [
       "<matplotlib.figure.Figure at 0x213bb5c4e80>"
      ]
     },
     "metadata": {},
     "output_type": "display_data"
    }
   ],
   "source": [
    "df.plot.scatter(\"X\", \"Y\")"
   ]
  },
  {
   "cell_type": "markdown",
   "metadata": {},
   "source": [
    "# Fitting the data"
   ]
  },
  {
   "cell_type": "markdown",
   "metadata": {},
   "source": [
    "To fit our data, we want to load another package. `sklearn` is a data science and machine learning package available in python. For this example, we are not loading the whole package, we are just taking a function called `LinearRegression` from the `linear_model` part of `sklearn`. The line below will get this package."
   ]
  },
  {
   "cell_type": "code",
   "execution_count": 13,
   "metadata": {
    "collapsed": true
   },
   "outputs": [],
   "source": [
    "from sklearn.linear_model import LinearRegression"
   ]
  },
  {
   "cell_type": "markdown",
   "metadata": {},
   "source": [
    "You're probably familiar with fitting straight lines to data in excel, this is how we do it in python. First we create a model. In python, this is an object, as you'll see if you type model in the box below, it exists, but current has no data in it. You can think of an object as a program or app that has a few things that it can do."
   ]
  },
  {
   "cell_type": "code",
   "execution_count": 14,
   "metadata": {
    "collapsed": true
   },
   "outputs": [],
   "source": [
    "model = LinearRegression(fit_intercept=True)"
   ]
  },
  {
   "cell_type": "code",
   "execution_count": 15,
   "metadata": {
    "collapsed": false
   },
   "outputs": [
    {
     "data": {
      "text/plain": [
       "LinearRegression(copy_X=True, fit_intercept=True, n_jobs=1, normalize=False)"
      ]
     },
     "execution_count": 15,
     "metadata": {},
     "output_type": "execute_result"
    }
   ],
   "source": [
    "model"
   ]
  },
  {
   "cell_type": "markdown",
   "metadata": {},
   "source": [
    "Like a program, we can look up what the object is capable of doing, using `dir(model)`, which will give us the directory of functions the model we've instantiated can do. The only functions we care about today are `fit` and `predict` which are at the bottom of the list. Ignore anything starting with '__', as these are internal functions you dopn't want to fiddle with."
   ]
  },
  {
   "cell_type": "code",
   "execution_count": 16,
   "metadata": {
    "collapsed": false
   },
   "outputs": [
    {
     "data": {
      "text/plain": [
       "['copy_X',\n",
       " 'fit',\n",
       " 'fit_intercept',\n",
       " 'get_params',\n",
       " 'n_jobs',\n",
       " 'normalize',\n",
       " 'predict',\n",
       " 'score',\n",
       " 'set_params']"
      ]
     },
     "execution_count": 16,
     "metadata": {},
     "output_type": "execute_result"
    }
   ],
   "source": [
    "[x for x in dir(model) if x[0]!='_'] "
   ]
  },
  {
   "cell_type": "markdown",
   "metadata": {},
   "source": [
    "Now, we want to use this model object to fit our data. To do this, we call `model.fit()` and put our data in. `model.fit` requires two inputs, for each column of data (we know this as its in the manual:\n",
    "[The manual for all python packages can be found online with a simple google search, click here for the sklearn manual](https://scikit-learn.org/stable/modules/generated/sklearn.linear_model.LinearRegression.html) \n",
    "). \n",
    "\n",
    "`model.fit` requires a DataFrame as its first argument, which we get by calling `df[[\"X\"]]` to get our x_data, this could have more than one column, but only has one in our case. the second argument should be the labels, which we have called \"Y\" here, and this should be a series, and is called as `df[\"Y\"]`, note the single brackets. Have a look at the inputs below. Note that `df[[\"X\"]]` is a column of length 100 and `df[Y]` is a list of 100 targets. "
   ]
  },
  {
   "cell_type": "code",
   "execution_count": 73,
   "metadata": {
    "collapsed": false
   },
   "outputs": [
    {
     "data": {
      "text/html": [
       "<div>\n",
       "<style scoped>\n",
       "    .dataframe tbody tr th:only-of-type {\n",
       "        vertical-align: middle;\n",
       "    }\n",
       "\n",
       "    .dataframe tbody tr th {\n",
       "        vertical-align: top;\n",
       "    }\n",
       "\n",
       "    .dataframe thead th {\n",
       "        text-align: right;\n",
       "    }\n",
       "</style>\n",
       "<table border=\"1\" class=\"dataframe\">\n",
       "  <thead>\n",
       "    <tr style=\"text-align: right;\">\n",
       "      <th></th>\n",
       "      <th>X</th>\n",
       "    </tr>\n",
       "  </thead>\n",
       "  <tbody>\n",
       "    <tr>\n",
       "      <th>0</th>\n",
       "      <td>5.910131</td>\n",
       "    </tr>\n",
       "    <tr>\n",
       "      <th>1</th>\n",
       "      <td>2.500393</td>\n",
       "    </tr>\n",
       "    <tr>\n",
       "      <th>2</th>\n",
       "      <td>3.946845</td>\n",
       "    </tr>\n",
       "    <tr>\n",
       "      <th>3</th>\n",
       "      <td>7.102233</td>\n",
       "    </tr>\n",
       "    <tr>\n",
       "      <th>4</th>\n",
       "      <td>6.168895</td>\n",
       "    </tr>\n",
       "    <tr>\n",
       "      <th>5</th>\n",
       "      <td>-0.943195</td>\n",
       "    </tr>\n",
       "    <tr>\n",
       "      <th>6</th>\n",
       "      <td>3.875221</td>\n",
       "    </tr>\n",
       "    <tr>\n",
       "      <th>7</th>\n",
       "      <td>1.121607</td>\n",
       "    </tr>\n",
       "    <tr>\n",
       "      <th>8</th>\n",
       "      <td>1.241953</td>\n",
       "    </tr>\n",
       "    <tr>\n",
       "      <th>9</th>\n",
       "      <td>2.526496</td>\n",
       "    </tr>\n",
       "    <tr>\n",
       "      <th>10</th>\n",
       "      <td>1.860109</td>\n",
       "    </tr>\n",
       "    <tr>\n",
       "      <th>11</th>\n",
       "      <td>5.135684</td>\n",
       "    </tr>\n",
       "    <tr>\n",
       "      <th>12</th>\n",
       "      <td>3.402594</td>\n",
       "    </tr>\n",
       "    <tr>\n",
       "      <th>13</th>\n",
       "      <td>1.804188</td>\n",
       "    </tr>\n",
       "    <tr>\n",
       "      <th>14</th>\n",
       "      <td>2.609658</td>\n",
       "    </tr>\n",
       "    <tr>\n",
       "      <th>15</th>\n",
       "      <td>2.334186</td>\n",
       "    </tr>\n",
       "    <tr>\n",
       "      <th>16</th>\n",
       "      <td>5.235198</td>\n",
       "    </tr>\n",
       "    <tr>\n",
       "      <th>17</th>\n",
       "      <td>0.987104</td>\n",
       "    </tr>\n",
       "    <tr>\n",
       "      <th>18</th>\n",
       "      <td>2.282669</td>\n",
       "    </tr>\n",
       "    <tr>\n",
       "      <th>19</th>\n",
       "      <td>-0.635239</td>\n",
       "    </tr>\n",
       "    <tr>\n",
       "      <th>20</th>\n",
       "      <td>-4.882475</td>\n",
       "    </tr>\n",
       "    <tr>\n",
       "      <th>21</th>\n",
       "      <td>3.134046</td>\n",
       "    </tr>\n",
       "    <tr>\n",
       "      <th>22</th>\n",
       "      <td>3.661090</td>\n",
       "    </tr>\n",
       "    <tr>\n",
       "      <th>23</th>\n",
       "      <td>-0.355413</td>\n",
       "    </tr>\n",
       "    <tr>\n",
       "      <th>24</th>\n",
       "      <td>7.174387</td>\n",
       "    </tr>\n",
       "    <tr>\n",
       "      <th>25</th>\n",
       "      <td>-2.135914</td>\n",
       "    </tr>\n",
       "    <tr>\n",
       "      <th>26</th>\n",
       "      <td>1.614396</td>\n",
       "    </tr>\n",
       "    <tr>\n",
       "      <th>27</th>\n",
       "      <td>1.032040</td>\n",
       "    </tr>\n",
       "    <tr>\n",
       "      <th>28</th>\n",
       "      <td>5.331948</td>\n",
       "    </tr>\n",
       "    <tr>\n",
       "      <th>29</th>\n",
       "      <td>5.173397</td>\n",
       "    </tr>\n",
       "    <tr>\n",
       "      <th>...</th>\n",
       "      <td>...</td>\n",
       "    </tr>\n",
       "    <tr>\n",
       "      <th>70</th>\n",
       "      <td>3.322726</td>\n",
       "    </tr>\n",
       "    <tr>\n",
       "      <th>71</th>\n",
       "      <td>1.822457</td>\n",
       "    </tr>\n",
       "    <tr>\n",
       "      <th>72</th>\n",
       "      <td>4.348502</td>\n",
       "    </tr>\n",
       "    <tr>\n",
       "      <th>73</th>\n",
       "      <td>-1.587065</td>\n",
       "    </tr>\n",
       "    <tr>\n",
       "      <th>74</th>\n",
       "      <td>2.505854</td>\n",
       "    </tr>\n",
       "    <tr>\n",
       "      <th>75</th>\n",
       "      <td>-0.212025</td>\n",
       "    </tr>\n",
       "    <tr>\n",
       "      <th>76</th>\n",
       "      <td>-0.676993</td>\n",
       "    </tr>\n",
       "    <tr>\n",
       "      <th>77</th>\n",
       "      <td>0.052876</td>\n",
       "    </tr>\n",
       "    <tr>\n",
       "      <th>78</th>\n",
       "      <td>0.721119</td>\n",
       "    </tr>\n",
       "    <tr>\n",
       "      <th>79</th>\n",
       "      <td>1.640413</td>\n",
       "    </tr>\n",
       "    <tr>\n",
       "      <th>80</th>\n",
       "      <td>-1.412875</td>\n",
       "    </tr>\n",
       "    <tr>\n",
       "      <th>81</th>\n",
       "      <td>3.752066</td>\n",
       "    </tr>\n",
       "    <tr>\n",
       "      <th>82</th>\n",
       "      <td>2.664156</td>\n",
       "    </tr>\n",
       "    <tr>\n",
       "      <th>83</th>\n",
       "      <td>-2.340609</td>\n",
       "    </tr>\n",
       "    <tr>\n",
       "      <th>84</th>\n",
       "      <td>5.220630</td>\n",
       "    </tr>\n",
       "    <tr>\n",
       "      <th>85</th>\n",
       "      <td>6.239723</td>\n",
       "    </tr>\n",
       "    <tr>\n",
       "      <th>86</th>\n",
       "      <td>4.446949</td>\n",
       "    </tr>\n",
       "    <tr>\n",
       "      <th>87</th>\n",
       "      <td>1.050188</td>\n",
       "    </tr>\n",
       "    <tr>\n",
       "      <th>88</th>\n",
       "      <td>-1.176882</td>\n",
       "    </tr>\n",
       "    <tr>\n",
       "      <th>89</th>\n",
       "      <td>4.136129</td>\n",
       "    </tr>\n",
       "    <tr>\n",
       "      <th>90</th>\n",
       "      <td>0.492058</td>\n",
       "    </tr>\n",
       "    <tr>\n",
       "      <th>91</th>\n",
       "      <td>4.556113</td>\n",
       "    </tr>\n",
       "    <tr>\n",
       "      <th>92</th>\n",
       "      <td>2.020687</td>\n",
       "    </tr>\n",
       "    <tr>\n",
       "      <th>93</th>\n",
       "      <td>3.941598</td>\n",
       "    </tr>\n",
       "    <tr>\n",
       "      <th>94</th>\n",
       "      <td>2.390916</td>\n",
       "    </tr>\n",
       "    <tr>\n",
       "      <th>95</th>\n",
       "      <td>3.266433</td>\n",
       "    </tr>\n",
       "    <tr>\n",
       "      <th>96</th>\n",
       "      <td>1.526250</td>\n",
       "    </tr>\n",
       "    <tr>\n",
       "      <th>97</th>\n",
       "      <td>5.964676</td>\n",
       "    </tr>\n",
       "    <tr>\n",
       "      <th>98</th>\n",
       "      <td>1.817280</td>\n",
       "    </tr>\n",
       "    <tr>\n",
       "      <th>99</th>\n",
       "      <td>2.504973</td>\n",
       "    </tr>\n",
       "  </tbody>\n",
       "</table>\n",
       "<p>100 rows × 1 columns</p>\n",
       "</div>"
      ],
      "text/plain": [
       "           X\n",
       "0   5.910131\n",
       "1   2.500393\n",
       "2   3.946845\n",
       "3   7.102233\n",
       "4   6.168895\n",
       "5  -0.943195\n",
       "6   3.875221\n",
       "7   1.121607\n",
       "8   1.241953\n",
       "9   2.526496\n",
       "10  1.860109\n",
       "11  5.135684\n",
       "12  3.402594\n",
       "13  1.804188\n",
       "14  2.609658\n",
       "15  2.334186\n",
       "16  5.235198\n",
       "17  0.987104\n",
       "18  2.282669\n",
       "19 -0.635239\n",
       "20 -4.882475\n",
       "21  3.134046\n",
       "22  3.661090\n",
       "23 -0.355413\n",
       "24  7.174387\n",
       "25 -2.135914\n",
       "26  1.614396\n",
       "27  1.032040\n",
       "28  5.331948\n",
       "29  5.173397\n",
       "..       ...\n",
       "70  3.322726\n",
       "71  1.822457\n",
       "72  4.348502\n",
       "73 -1.587065\n",
       "74  2.505854\n",
       "75 -0.212025\n",
       "76 -0.676993\n",
       "77  0.052876\n",
       "78  0.721119\n",
       "79  1.640413\n",
       "80 -1.412875\n",
       "81  3.752066\n",
       "82  2.664156\n",
       "83 -2.340609\n",
       "84  5.220630\n",
       "85  6.239723\n",
       "86  4.446949\n",
       "87  1.050188\n",
       "88 -1.176882\n",
       "89  4.136129\n",
       "90  0.492058\n",
       "91  4.556113\n",
       "92  2.020687\n",
       "93  3.941598\n",
       "94  2.390916\n",
       "95  3.266433\n",
       "96  1.526250\n",
       "97  5.964676\n",
       "98  1.817280\n",
       "99  2.504973\n",
       "\n",
       "[100 rows x 1 columns]"
      ]
     },
     "execution_count": 73,
     "metadata": {},
     "output_type": "execute_result"
    }
   ],
   "source": [
    "df[[\"X\"]]"
   ]
  },
  {
   "cell_type": "code",
   "execution_count": 75,
   "metadata": {
    "collapsed": false
   },
   "outputs": [
    {
     "data": {
      "text/plain": [
       "0     4.714615\n",
       "1     2.076238\n",
       "2     2.548811\n",
       "3     4.615368\n",
       "4     3.264107\n",
       "5     2.688852\n",
       "6     2.955757\n",
       "7     1.962755\n",
       "8     3.334057\n",
       "9     3.498206\n",
       "10    3.491812\n",
       "11    3.993727\n",
       "12    2.590165\n",
       "13    3.496289\n",
       "14    2.648896\n",
       "15    3.101484\n",
       "16    4.044185\n",
       "17    2.218626\n",
       "18    2.991840\n",
       "19    2.270532\n",
       "20    0.723470\n",
       "21    2.390514\n",
       "22    3.247446\n",
       "23    2.556569\n",
       "24    3.805032\n",
       "25    1.284408\n",
       "26    2.266742\n",
       "27    3.234244\n",
       "28    3.935732\n",
       "29    3.755750\n",
       "        ...   \n",
       "70    3.457247\n",
       "71    2.706101\n",
       "72    3.732966\n",
       "73    1.198368\n",
       "74    2.234635\n",
       "75    2.277190\n",
       "76    1.395197\n",
       "77    1.671088\n",
       "78    1.988569\n",
       "79    2.500864\n",
       "80    1.399141\n",
       "81    2.438144\n",
       "82    2.477438\n",
       "83    0.186116\n",
       "84    3.878805\n",
       "85    3.070888\n",
       "86    2.781893\n",
       "87    2.341139\n",
       "88    1.277154\n",
       "89    4.012346\n",
       "90    1.501189\n",
       "91    3.500359\n",
       "92    2.586565\n",
       "93    2.598433\n",
       "94    2.978913\n",
       "95    2.894157\n",
       "96    2.843770\n",
       "97    4.201155\n",
       "98    3.626802\n",
       "99    3.419756\n",
       "Name: Y, Length: 100, dtype: float64"
      ]
     },
     "execution_count": 75,
     "metadata": {},
     "output_type": "execute_result"
    }
   ],
   "source": [
    "df[\"Y\"]"
   ]
  },
  {
   "cell_type": "markdown",
   "metadata": {},
   "source": [
    "Once we have created our model, we can fit it to the data by calling the fit() method on it. This takes two arguments:\n",
    "\n",
    "The input data in the shape [n_samples, n_features].\n",
    "The labels of the data in the shape [n_samples]\n",
    "\n",
    "We only have 1 feature, that of \"X\".\n",
    "\n",
    "Now to fit the `model` to our data, we put the input data (`[[\"X\"]]`) and output data (`[\"Y\"]`) into the `model.fit` function."
   ]
  },
  {
   "cell_type": "code",
   "execution_count": 17,
   "metadata": {
    "collapsed": false
   },
   "outputs": [
    {
     "data": {
      "text/plain": [
       "LinearRegression(copy_X=True, fit_intercept=True, n_jobs=1, normalize=False)"
      ]
     },
     "execution_count": 17,
     "metadata": {},
     "output_type": "execute_result"
    }
   ],
   "source": [
    "model.fit(df[[\"X\"]], df[\"Y\"])"
   ]
  },
  {
   "cell_type": "markdown",
   "metadata": {},
   "source": [
    "Now, `model` fits the data! \n",
    "\n",
    "As we now have a fitted model, we can predict new values that were not in the original data. We're going to use this to plot a straight line fit to this data. "
   ]
  },
  {
   "cell_type": "markdown",
   "metadata": {},
   "source": [
    "First we make a set of x values, `xfit` which should cover the range we plotted over in the figure. (As ever, if you want to check what xfit actually is, you can ask by typing `xfit` into an empty box, to get a new box, hit B in edit mode. Do this to check that xfit goes from -6 to +8)."
   ]
  },
  {
   "cell_type": "code",
   "execution_count": 18,
   "metadata": {
    "collapsed": true
   },
   "outputs": [],
   "source": [
    "xfit = np.linspace(-6, 8)\n"
   ]
  },
  {
   "cell_type": "code",
   "execution_count": null,
   "metadata": {
    "collapsed": true
   },
   "outputs": [],
   "source": []
  },
  {
   "cell_type": "markdown",
   "metadata": {},
   "source": [
    "Now we use `model.predict()` with our new data to generate our straight line fit. The predict() function takes an array of the same shape as the original input data ([n_samples, n_features]) so we use xfit[:, np.newaxis] to turn xfit from [50] to [50, 1]"
   ]
  },
  {
   "cell_type": "code",
   "execution_count": 19,
   "metadata": {
    "collapsed": true
   },
   "outputs": [],
   "source": [
    "yfit = model.predict(xfit[:, np.newaxis])"
   ]
  },
  {
   "cell_type": "markdown",
   "metadata": {},
   "source": [
    "Now, we can plot our data again, using `df.plot.scatter()` assigning this to an object caqlled `ax`. We can then add a second graph to this object using `ax.plot`, with out new x data and our fitted values."
   ]
  },
  {
   "cell_type": "code",
   "execution_count": 20,
   "metadata": {
    "collapsed": false
   },
   "outputs": [
    {
     "data": {
      "text/plain": [
       "[<matplotlib.lines.Line2D at 0x213bd7a08d0>]"
      ]
     },
     "execution_count": 20,
     "metadata": {},
     "output_type": "execute_result"
    },
    {
     "data": {
      "image/png": "[encoded data removed]",
      "text/plain": [
       "<matplotlib.figure.Figure at 0x213bd7a09e8>"
      ]
     },
     "metadata": {},
     "output_type": "display_data"
    }
   ],
   "source": [
    "ax = df.plot.scatter(\"X\", \"Y\")\n",
    "ax.plot(xfit, yfit, linestyle=\":\", color=\"black\")"
   ]
  },
  {
   "cell_type": "markdown",
   "metadata": {},
   "source": [
    "You should see that your data is now has a line of best fit from the model."
   ]
  },
  {
   "cell_type": "markdown",
   "metadata": {},
   "source": [
    "This fits the data to a straight line, with the equation y=mx +c, where m is the gradient and c is the intercept. \n",
    "\n",
    "We can get these values from the model, \n",
    "* `model.coeff_[0]` is the first (zero-indexed, remember?) coefficient of the model, this is our gradient m. As this is a simple model, we only have one coefficient. \n",
    "* `model.intercept_` is the intercept, i.e. c."
   ]
  },
  {
   "cell_type": "code",
   "execution_count": 21,
   "metadata": {
    "collapsed": false
   },
   "outputs": [
    {
     "name": "stdout",
     "output_type": "stream",
     "text": [
      "Model gradient:  0.322939686709\n",
      "Model intercept: 2.00316701246\n"
     ]
    }
   ],
   "source": [
    "print(\"Model gradient: \", model.coef_[0])\n",
    "print(\"Model intercept:\", model.intercept_)"
   ]
  },
  {
   "cell_type": "markdown",
   "metadata": {},
   "source": [
    "What if we want to predict the value of our fit when X = 10? \n",
    "\n",
    "We need to use the equation y = m x + c\n",
    "which is done like this:"
   ]
  },
  {
   "cell_type": "code",
   "execution_count": 22,
   "metadata": {
    "collapsed": false
   },
   "outputs": [
    {
     "name": "stdout",
     "output_type": "stream",
     "text": [
      "y for y = m *10 + c is 5.232563879555105\n"
     ]
    }
   ],
   "source": [
    "x_test = 10\n",
    "y_test = model.coef_[0] * x_test + model.intercept_\n",
    "print(\"y for y = m *10 + c is {}\".format(y_test))"
   ]
  },
  {
   "cell_type": "markdown",
   "metadata": {},
   "source": [
    "Alternatively, we can use the model to predict the y_test for us"
   ]
  },
  {
   "cell_type": "code",
   "execution_count": 23,
   "metadata": {
    "collapsed": false
   },
   "outputs": [
    {
     "name": "stdout",
     "output_type": "stream",
     "text": [
      "y = [ 5.23256388]\n"
     ]
    }
   ],
   "source": [
    "# you have to create a DataFrame since the interface expects it\n",
    "X_new = pd.DataFrame({\"X\": [10]})\n",
    "y_new = model.predict(X_new)\n",
    "print(\"y = {}\".format(y_new))"
   ]
  },
  {
   "cell_type": "markdown",
   "metadata": {},
   "source": [
    "*An aside on terminology* When you've done this previously, you probably talked about fitting a line of best fit to some data, and you get an equation for the line. In this field, you fit a *model* to your data, which, in its simplest may be a striaght line. Note, the input data can be more than one dimension (i.e. you may have several columns of input, i.e `df[[X],[G],[Z]]` if we had input data labelled X, G and Z, and this is why the `df[[X]]` input in our code has two square brackets, we could have had several columns of X). The output data (y in this example) is sometimes called *labels*, as each input X can match to an output label which could even be a word like 'alcohol', 'aldehyde', and sometimes called *targets*, as you want to map X to a target. You usually have only one label, so `y` is usually a list, as in the example here, which is why we needed to use a single square bracket."
   ]
  },
  {
   "cell_type": "markdown",
   "metadata": {},
   "source": [
    "Now, we want to know how good our fit is at modelling the data. The most common way to evaluate the overall fit of a linear model is by the R-squared value. R-squared is the proportion of variance explained, meaning the proportion of variance in the observed data that is explained by the model, or the reduction in error over the null model. (The null model just predicts the mean of the observed response, and thus it has an intercept and no slope.)\n",
    "\n",
    "R-squared is between 0 and 1, and higher is better because it means that more variance is explained by the model. \n",
    "\n",
    "The R-squared value is given by the model.score() function, as below:"
   ]
  },
  {
   "cell_type": "code",
   "execution_count": 24,
   "metadata": {
    "collapsed": false
   },
   "outputs": [
    {
     "data": {
      "text/plain": [
       "0.71471635472023376"
      ]
     },
     "execution_count": 24,
     "metadata": {},
     "output_type": "execute_result"
    }
   ],
   "source": [
    "model.score(df[[\"X\"]], df[\"Y\"])"
   ]
  },
  {
   "cell_type": "markdown",
   "metadata": {},
   "source": [
    "## 2nd Model"
   ]
  },
  {
   "cell_type": "markdown",
   "metadata": {},
   "source": [
    "As an exercise, fit this randomly generated data. "
   ]
  },
  {
   "cell_type": "code",
   "execution_count": 128,
   "metadata": {
    "collapsed": true
   },
   "outputs": [],
   "source": [
    "np.random.seed(0)\n",
    "x = 5 * np.random.randn(100) + 1.5   # Array of 100 values with mean = 1.5, stddev = 2.5\n",
    "res = 0.75 * np.random.randn(100)       # Generate 100 residual terms\n",
    "y = 5 + 2 * x + res                  # Actual values of Y"
   ]
  },
  {
   "cell_type": "code",
   "execution_count": null,
   "metadata": {
    "collapsed": true
   },
   "outputs": [],
   "source": []
  },
  {
   "cell_type": "markdown",
   "metadata": {},
   "source": [
    "At this point, you should know how to use linear regression to fit a line to some data, have some experience with using jupyter, and have done your first data analysis in python. \n",
    "\n",
    "The next notebook is Regression_Cellulose."
   ]
  },
  {
   "cell_type": "code",
   "execution_count": null,
   "metadata": {
    "collapsed": true
   },
   "outputs": [],
   "source": []
  }
 ],
 "metadata": {
  "kernelspec": {
   "display_name": "Python [Anaconda3]",
   "language": "python",
   "name": "Python [Anaconda3]"
  },
  "language_info": {
   "codemirror_mode": {
    "name": "ipython",
    "version": 3
   },
   "file_extension": ".py",
   "mimetype": "text/x-python",
   "name": "python",
   "nbconvert_exporter": "python",
   "pygments_lexer": "ipython3",
   "version": "3.5.2"
  }
 },
 "nbformat": 4,
 "nbformat_minor": 2
}
