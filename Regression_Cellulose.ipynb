{
 "cells": [
  {
   "cell_type": "markdown",
   "metadata": {},
   "source": [
    "# Linear Regression - Chemical examples"
   ]
  },
  {
   "cell_type": "markdown",
   "metadata": {},
   "source": [
    "This notebook will take you through some regression examples with some recently published data so you can see how regression can be useful in your research, and will teach you the regression and demonstrate how you use regression in actual research."
   ]
  },
  {
   "cell_type": "markdown",
   "metadata": {},
   "source": [
    "![PrettyImage.gif](attachment:PrettyImage.gif)"
   ]
  },
  {
   "cell_type": "markdown",
   "metadata": {},
   "source": [
    "**The chemical problem** Cellulose is a readily available material that can be used to make useful biodegradable materials from waste materials (like bagasse, the husks of sugar cane left over after processing). However the first stage of processing is to dissolve cellulose which is very difficult. Currently, liquid salts called ionic liquids (IL) are used to do this (which are nice solvents in terms of green chemistry as they have no vapour pressure so can be recovered, but they are horrible solvents to handle). Ionic liquids are(very!)  expensive, and the resulting cellubiose-ionic liquid mixture is very thick and hard to process. The solution to both these problems is to dilute the ionic liquid with a co-solvent (CS), and the mixture of ionic liquid and co solvent is called an organic electrolyte solutions (OES). \n",
    "\n",
    "In this notebook, we will look at data which will help us figure out which CS are the best and why. Any small improvement in cellulose processing is worth billions of dollars due to increasing the efficiency of the paper and biodegradable plastics industries. Furthermore, this work can be used to switch co-solvents for safer or greener options."
   ]
  },
  {
   "cell_type": "markdown",
   "metadata": {},
   "source": [
    "**Materials**\n",
    "1-Ethyl-3-methylimidazolium acetate (>95% purity, Sigma-Aldrich) and microcrystalline cellulose (Sigma-Aldrich, 20 μm particle size) were dried at 80 °C under reduced pressure to constant mass. Dipolar aprotic solvents (all >99% purity, Sigma-Aldrich) were used as received, except for sulfolane, which was dried over activated 3 Å molecular sieves. The water content of the ionic liquid and solvents was measured by Karl Fisher titration and found to be: [EMIm][OAc] 1.1%; 1-methylimidazole 0.2%; dimethyl sulfoxide 1.1%; N,N-dimethylformamide 0.3%; N,N′-dimethylimidazolidinone 0.7%; N,N-dimethylacetamide 0.4%; sulfolane 0.1%; propylene carbonate 0.1%; γ-valerolactone 0.8%; N,N,N′,N′-tetramethylurea 0.3%; N-methylpyrrolidinone 0.8%; and γ-butyrolactone 0.3%."
   ]
  },
  {
   "cell_type": "markdown",
   "metadata": {},
   "source": [
    "![cosolvents.gif](attachment:cosolvents.gif)"
   ]
  },
  {
   "cell_type": "markdown",
   "metadata": {},
   "source": [
    "**Solubility Tests**\n",
    "Solubility tests were conducted at 70 °C. As the cellulose solutions formed are viscous and not amenable to filtration, solubility was determined by addition of small aliquots of dried microcrystalline cellulose (MC) to mixtures of [EMIm][OAc]/cosolvent of appropriate composition. The maximum amount of MC that dissolved, a, and minimum amount that did not dissolve, b, were recorded, giving an under- and overestimate for the maximum amount of MC dissolvable, v. Repeated determinations, using smaller incremental added weights of MC then led to a narrow range between “soluble” and “insoluble”. (As MC tended to form aggregates when added directly to OESs, a slightly modified procedure was followed once approximate solubility values were known at any given OES composition: to a weighed quantity of dried MC was added a measured quantity of the selected cosolvent; after stirring for 1 min to wet and disperse the MC powder, calculated quantities of IL were added, and then, small, weighed aliquots were added until no further MC would dissolve.) Apparently “insoluble” samples were maintained for a minimum of 16 h at 70 °C to confirm the lack of further dissolution.\n",
    "Each pair of points (ai, bi) was given a weight, wi,:\n",
    "(1)\n",
    "based on, vi, the errors on ai and bi, as given by vi = (bi– ai)/2, such that the uncertainties on points ai and bi are ai+ vi and bi– vi respectively. Other sources of error are much smaller in comparison."
   ]
  },
  {
   "cell_type": "markdown",
   "metadata": {},
   "source": [
    "**References for this data:**\n",
    "\n",
    "[1] Ella Gale, Remigius H. Wirawan, Rodrigo L. Silveira, Caroline S. Pereira, Marcus A. Johns, Munir S. Skaf and Janet L. Scott, \"Directed Discovery of Greener Cosolvents: New Cosolvents for Use in Ionic Liquid Based Organic Electrolyte Solutions for Cellulose Dissolution,\" *ACS Sustainable Chem. Eng.*, 2016, **4**, 11, 6200--6207\n",
    "Publication Date:September 28, 2016\n",
    "https://doi.org/10.1021/acssuschemeng.6b02020\n",
    "\n",
    "[2] Gale, E. M., Johns, M. A., Wirawan, R. H., & Scott, J. L. (2017). \"Combining random walk and regression models to understand solvation in multi-component solvent systems.\" *Physical Chemistry Chemical Physics*, **19**(27), 17805-17815. https://doi.org/10.1039/c7cp02873c"
   ]
  },
  {
   "cell_type": "markdown",
   "metadata": {},
   "source": [
    "## Contents"
   ]
  },
  {
   "cell_type": "code",
   "execution_count": 113,
   "metadata": {
    "collapsed": true
   },
   "outputs": [],
   "source": [
    "# first we import some useful libraries\n",
    "import numpy as np\n",
    "import pandas as pd\n",
    "from matplotlib import pyplot as plt\n",
    "from sklearn.linear_model import LinearRegression\n",
    "from sklearn.pipeline import make_pipeline\n",
    "from sklearn.preprocessing import PolynomialFeatures"
   ]
  },
  {
   "cell_type": "markdown",
   "metadata": {},
   "source": [
    "**Linear regression practice:** \n",
    "Which solvent parameter explains most the variance? R2 practice\n",
    "\n",
    "**Non-linear fitting**\n",
    "Does our model fit the data? Linearising non-linear data\n",
    "\n",
    "**Linear vs ridge regression** \n",
    "What explains the difference between co-solvents?\n",
    "\n",
    "**Polynomial regression model**\n",
    "Fitting more complicated models for the outlyers\n"
   ]
  },
  {
   "cell_type": "markdown",
   "metadata": {},
   "source": [
    "## Investigation of the data"
   ]
  },
  {
   "cell_type": "markdown",
   "metadata": {},
   "source": [
    "Plot and explain the data "
   ]
  },
  {
   "cell_type": "markdown",
   "metadata": {},
   "source": [
    "At the moment, the different OES systems look vastly different. They cross the x-axis in different places, i.e. the different systems require more ionic liquid to start dissolving the cellulose, the curves also have different shapes and curvature.\n",
    "\n",
    "If we are able to understand these systems and explain what is happening here, we should have the knowledge to replot these data such that all the OES's overlap, and then the best fit line to that would be the explanation for why the different co-solvents cause different behaviour. And from that, we should be able to predict other solvents and other systems. "
   ]
  },
  {
   "cell_type": "markdown",
   "metadata": {},
   "source": [
    "# 1. Linear Regression - Fitting the area under the dissolution curves to co-solvent properties"
   ]
  },
  {
   "cell_type": "markdown",
   "metadata": {},
   "source": [
    "We want to try and find out which chemical characteristics of the solvents could explain this behaviour. Before fitting the lines, lets look at hte behaviour of the OESs as a series. As each OES was tested over the entire range of ionic liquid molar fraction, we can take the area under the curve to give us a rough measure of the 'goodness' of the co-solvents. These rough measures can then be screened against several chemical characteristics to see which ones might be involved in explaining hte different between the cosolvents. "
   ]
  },
  {
   "cell_type": "code",
   "execution_count": null,
   "metadata": {
    "collapsed": true
   },
   "outputs": [],
   "source": [
    "To go here: \n",
    "    p* etc as linear fits"
   ]
  },
  {
   "cell_type": "markdown",
   "metadata": {},
   "source": [
    "Hopefully you can see that these individual parameters do not explain everything, and, it's likely that some of these points are outliers"
   ]
  },
  {
   "cell_type": "markdown",
   "metadata": {},
   "source": [
    "# 2. Non-linear fitting - part 1: Fitting the cellulose disolution curves"
   ]
  },
  {
   "cell_type": "markdown",
   "metadata": {},
   "source": [
    "Now, we're going to try and fit the individual OES curves."
   ]
  },
  {
   "cell_type": "markdown",
   "metadata": {},
   "source": [
    "# 3. Non-linear fitting - part 2: Comparing linear and higher order fits"
   ]
  },
  {
   "cell_type": "markdown",
   "metadata": {},
   "source": [
    "One thing that varies about this curve is the point at which the cellulose starts to dissolve, i.e. where it crosses the x-axis. This is the minimum mole fraction of ionic liquid required to get any dissolution at all. So, different co-solvents require different amounts of IL in the mixture to do anything at all. For example, TMU is a bad co-solvent, DMI is a good one.\n",
    "\n",
    "Looking at the chemical structures, we can see that TMU is not a ring, and had 4 methyl groups that can spin and pivot around taking up space. DMI is the ring version of TMU, and being a ring the methyls and CH2 hydrogens are much more constrained. Note also that the other very good co-solvents are 1-MI and DMSO are small molecules.\n",
    "\n",
    "Perhaps the different behaviour of the OESs is related to the volume of the co-solvents?\n",
    "\n",
    "To find out we take as our input is the minimum ionic liquid molar fraction X (the Greek letter 'chi' is used for molar fraction in the chemical literature), called `chiIL_min` below. Our target output is the molar volume of the co-solvent (`vol_m` below), which is a value we can look up. "
   ]
  },
  {
   "cell_type": "markdown",
   "metadata": {},
   "source": [
    "This is the data:"
   ]
  },
  {
   "cell_type": "code",
   "execution_count": 5,
   "metadata": {
    "collapsed": true
   },
   "outputs": [],
   "source": [
    "vol_m = np.array([71.3, 82.4, 107.3, 122.6, 96.44, 76.8, 82.63, \n",
    "  95.27, 93.02, 96.2, 85.])\n",
    "chiIL_min = np.array([0.026125, 0.046998, 0.136876, \n",
    "  0.413974, 0.04399, 0.04875, \n",
    "  0.05349, 0.0675487, 0.07219, \n",
    "  0.13881,0.1341])"
   ]
  },
  {
   "cell_type": "markdown",
   "metadata": {},
   "source": [
    "### Put the data into a DataFrame"
   ]
  },
  {
   "cell_type": "code",
   "execution_count": 108,
   "metadata": {
    "collapsed": true
   },
   "outputs": [],
   "source": [
    "data={'molar volume': vol_m, 'minimum chi ionic liquid': chiIL_min}"
   ]
  },
  {
   "cell_type": "code",
   "execution_count": 109,
   "metadata": {
    "collapsed": true
   },
   "outputs": [],
   "source": [
    "# Create pandas dataframe to store our X and y values\n",
    "df = pd.DataFrame(data)"
   ]
  },
  {
   "cell_type": "code",
   "execution_count": 110,
   "metadata": {
    "collapsed": false
   },
   "outputs": [
    {
     "data": {
      "text/html": [
       "<div>\n",
       "<style scoped>\n",
       "    .dataframe tbody tr th:only-of-type {\n",
       "        vertical-align: middle;\n",
       "    }\n",
       "\n",
       "    .dataframe tbody tr th {\n",
       "        vertical-align: top;\n",
       "    }\n",
       "\n",
       "    .dataframe thead th {\n",
       "        text-align: right;\n",
       "    }\n",
       "</style>\n",
       "<table border=\"1\" class=\"dataframe\">\n",
       "  <thead>\n",
       "    <tr style=\"text-align: right;\">\n",
       "      <th></th>\n",
       "      <th>molar volume</th>\n",
       "      <th>minimum chi ionic liquid</th>\n",
       "    </tr>\n",
       "  </thead>\n",
       "  <tbody>\n",
       "    <tr>\n",
       "      <th>0</th>\n",
       "      <td>71.30</td>\n",
       "      <td>0.026125</td>\n",
       "    </tr>\n",
       "    <tr>\n",
       "      <th>1</th>\n",
       "      <td>82.40</td>\n",
       "      <td>0.046998</td>\n",
       "    </tr>\n",
       "    <tr>\n",
       "      <th>2</th>\n",
       "      <td>107.30</td>\n",
       "      <td>0.136876</td>\n",
       "    </tr>\n",
       "    <tr>\n",
       "      <th>3</th>\n",
       "      <td>122.60</td>\n",
       "      <td>0.413974</td>\n",
       "    </tr>\n",
       "    <tr>\n",
       "      <th>4</th>\n",
       "      <td>96.44</td>\n",
       "      <td>0.043990</td>\n",
       "    </tr>\n",
       "  </tbody>\n",
       "</table>\n",
       "</div>"
      ],
      "text/plain": [
       "   molar volume  minimum chi ionic liquid\n",
       "0         71.30                  0.026125\n",
       "1         82.40                  0.046998\n",
       "2        107.30                  0.136876\n",
       "3        122.60                  0.413974\n",
       "4         96.44                  0.043990"
      ]
     },
     "execution_count": 110,
     "metadata": {},
     "output_type": "execute_result"
    }
   ],
   "source": [
    "# Show the first five rows of our dataframe\n",
    "df.head()"
   ]
  },
  {
   "cell_type": "markdown",
   "metadata": {},
   "source": [
    "### Plot the data"
   ]
  },
  {
   "cell_type": "code",
   "execution_count": 111,
   "metadata": {
    "collapsed": false
   },
   "outputs": [
    {
     "data": {
      "text/plain": [
       "<matplotlib.axes._subplots.AxesSubplot at 0x1554e7736d8>"
      ]
     },
     "execution_count": 111,
     "metadata": {},
     "output_type": "execute_result"
    },
    {
     "data": {
      "image/png": "[encoded data removed]",
      "text/plain": [
       "<Figure size 432x288 with 1 Axes>"
      ]
     },
     "metadata": {
      "needs_background": "light"
     },
     "output_type": "display_data"
    }
   ],
   "source": [
    "df.plot.scatter(\"molar volume\", \"minimum chi ionic liquid\")"
   ]
  },
  {
   "cell_type": "markdown",
   "metadata": {},
   "source": [
    "*Now the question is is this best fit by a straight line or a curve?*"
   ]
  },
  {
   "cell_type": "markdown",
   "metadata": {},
   "source": [
    "### Fit the data to a straight line and get the residuals"
   ]
  },
  {
   "cell_type": "code",
   "execution_count": 114,
   "metadata": {
    "collapsed": true
   },
   "outputs": [],
   "source": [
    "# instantiate the model\n",
    "model = LinearRegression(fit_intercept=True)\n",
    "# set up fit the model to the data\n",
    "model.fit(df[[\"molar volume\"]], df[\"minimum chi ionic liquid\"])\n",
    "# set up x\n",
    "xfit = np.linspace(70, 130)\n",
    "# predict y\n",
    "yfit = model.predict(xfit[:, np.newaxis])"
   ]
  },
  {
   "cell_type": "markdown",
   "metadata": {},
   "source": [
    "### Plot the fit"
   ]
  },
  {
   "cell_type": "code",
   "execution_count": 115,
   "metadata": {
    "collapsed": false
   },
   "outputs": [
    {
     "data": {
      "text/plain": [
       "[<matplotlib.lines.Line2D at 0x1554f8054a8>]"
      ]
     },
     "execution_count": 115,
     "metadata": {},
     "output_type": "execute_result"
    },
    {
     "data": {
      "image/png": "[encoded data removed]",
      "text/plain": [
       "<Figure size 432x288 with 1 Axes>"
      ]
     },
     "metadata": {
      "needs_background": "light"
     },
     "output_type": "display_data"
    }
   ],
   "source": [
    "ax = df.plot.scatter(\"molar volume\", \"minimum chi ionic liquid\")\n",
    "ax.plot(xfit, yfit, linestyle=\":\", color=\"black\")"
   ]
  },
  {
   "cell_type": "markdown",
   "metadata": {},
   "source": [
    "### Get the R2 value and set it equal to R2linear"
   ]
  },
  {
   "cell_type": "code",
   "execution_count": 118,
   "metadata": {
    "collapsed": true
   },
   "outputs": [],
   "source": [
    "R2linear = model.score(df[[\"molar volume\"]], df[\"minimum chi ionic liquid\"])"
   ]
  },
  {
   "cell_type": "code",
   "execution_count": 120,
   "metadata": {
    "collapsed": false
   },
   "outputs": [
    {
     "name": "stdout",
     "output_type": "stream",
     "text": [
      "R2 for the linear fit is:0.6671587782964709\n"
     ]
    }
   ],
   "source": [
    "print(\"R2 for the linear fit is: {}\".format(R2linear))"
   ]
  },
  {
   "cell_type": "markdown",
   "metadata": {},
   "source": [
    "### Fit the data to a curve line and get the residuals"
   ]
  },
  {
   "cell_type": "code",
   "execution_count": 139,
   "metadata": {
    "collapsed": true
   },
   "outputs": [],
   "source": [
    "poly_model = make_pipeline(PolynomialFeatures(2), LinearRegression())\n",
    "\n",
    "poly_model.fit(df[[\"molar volume\"]],df[\"minimum chi ionic liquid\"])\n",
    "\n",
    "xfit = np.linspace(70, 130)\n",
    "# predict y\n",
    "yfit = poly_model.predict(xfit[:, np.newaxis])"
   ]
  },
  {
   "cell_type": "markdown",
   "metadata": {},
   "source": [
    "### Plot the fit"
   ]
  },
  {
   "cell_type": "code",
   "execution_count": 131,
   "metadata": {
    "collapsed": false
   },
   "outputs": [
    {
     "data": {
      "text/plain": [
       "[<matplotlib.lines.Line2D at 0x1554e72b080>]"
      ]
     },
     "execution_count": 131,
     "metadata": {},
     "output_type": "execute_result"
    },
    {
     "data": {
      "image/png": "[encoded data removed]",
      "text/plain": [
       "<Figure size 432x288 with 1 Axes>"
      ]
     },
     "metadata": {
      "needs_background": "light"
     },
     "output_type": "display_data"
    }
   ],
   "source": [
    "ax = df.plot.scatter(\"molar volume\", \"minimum chi ionic liquid\")\n",
    "ax.plot(xfit, yfit, linestyle=\":\", color=\"black\")"
   ]
  },
  {
   "cell_type": "markdown",
   "metadata": {},
   "source": [
    "### Get the R2 value and set it equal to R2Curve"
   ]
  },
  {
   "cell_type": "code",
   "execution_count": 140,
   "metadata": {
    "collapsed": true
   },
   "outputs": [],
   "source": [
    "R2curve = poly_model.score(df[[\"molar volume\"]], df[\"minimum chi ionic liquid\"])"
   ]
  },
  {
   "cell_type": "markdown",
   "metadata": {},
   "source": [
    "### Results:"
   ]
  },
  {
   "cell_type": "code",
   "execution_count": 154,
   "metadata": {
    "collapsed": false
   },
   "outputs": [
    {
     "name": "stdout",
     "output_type": "stream",
     "text": [
      "The linear fit R2 score is: 0.6671587782964709\n",
      "The curve fit R2 score is: 0.8626575620820776\n",
      "\n",
      "The curved fit is better\n"
     ]
    }
   ],
   "source": [
    "print(\"The linear fit R2 score is: {}\".format(R2linear))\n",
    "print(\"The curve fit R2 score is: {}\\n\".format(R2curve))\n",
    "if R2linear > R2curve:\n",
    "    print(\"The linear fit is better\")\n",
    "elif R2linear < R2curve:\n",
    "    print(\"The curved fit is better\")\n",
    "else:\n",
    "    print(\"You've made a mistake, probably not setting R2curve.\")\n"
   ]
  },
  {
   "cell_type": "markdown",
   "metadata": {},
   "source": [
    "*By eye, and from the residuals, you can probably tell which fit is the better one.*"
   ]
  },
  {
   "cell_type": "markdown",
   "metadata": {},
   "source": [
    "## Overfitting"
   ]
  },
  {
   "cell_type": "markdown",
   "metadata": {},
   "source": [
    "Is it the case that a better R2 score is always better?\n",
    "\n",
    "There is a the concept of **overfitting** your data, which we are going to try now."
   ]
  },
  {
   "cell_type": "markdown",
   "metadata": {},
   "source": [
    "### This time, use 7 polynomial features to fit the data to a curve line and get the residuals"
   ]
  },
  {
   "cell_type": "code",
   "execution_count": 156,
   "metadata": {
    "collapsed": true
   },
   "outputs": [],
   "source": [
    "poly_model = make_pipeline(PolynomialFeatures(7), LinearRegression())\n",
    "\n",
    "poly_model.fit(df[[\"molar volume\"]],df[\"minimum chi ionic liquid\"])\n",
    "\n",
    "xfit = np.linspace(70, 130)\n",
    "# predict y\n",
    "yfit = poly_model.predict(xfit[:, np.newaxis])"
   ]
  },
  {
   "cell_type": "markdown",
   "metadata": {},
   "source": [
    "### Plot the fit"
   ]
  },
  {
   "cell_type": "code",
   "execution_count": 157,
   "metadata": {
    "collapsed": false
   },
   "outputs": [
    {
     "data": {
      "text/plain": [
       "[<matplotlib.lines.Line2D at 0x1554e4bd940>]"
      ]
     },
     "execution_count": 157,
     "metadata": {},
     "output_type": "execute_result"
    },
    {
     "data": {
      "image/png": "[encoded data removed]",
      "text/plain": [
       "<Figure size 432x288 with 1 Axes>"
      ]
     },
     "metadata": {
      "needs_background": "light"
     },
     "output_type": "display_data"
    }
   ],
   "source": [
    "ax = df.plot.scatter(\"molar volume\", \"minimum chi ionic liquid\")\n",
    "ax.plot(xfit, yfit, linestyle=\":\", color=\"black\")"
   ]
  },
  {
   "cell_type": "markdown",
   "metadata": {},
   "source": [
    "### Results:"
   ]
  },
  {
   "cell_type": "code",
   "execution_count": 160,
   "metadata": {
    "collapsed": false
   },
   "outputs": [
    {
     "name": "stdout",
     "output_type": "stream",
     "text": [
      "The linear fit R2 score is: 0.6671587782964709\n",
      "The curve fit R2 score is: 0.8626575620820776\n",
      "The curve fit R2 score is: 0.9268359712253263\n"
     ]
    }
   ],
   "source": [
    "print(\"The linear fit R2 score is: {}\".format(R2linear))\n",
    "print(\"The curve fit R2 score is: {}\".format(R2curve))\n",
    "print(\"The curve fit R2 score is: {}\".format(R2overfit))"
   ]
  },
  {
   "cell_type": "markdown",
   "metadata": {},
   "source": [
    "**Regression Conclusion**\n",
    "\n",
    "*Overfitting* \n",
    "Look at the three graphs you've plotted, which fit seems the best? \n",
    "\n",
    "Just adding more features is not the best way to fit data. Generally, you want the fitting equation to be as simple as possible, but no simpler. With this data, the linear fit is the simplest, but not the most informative. The quadratic fit is a good mix of explanation (it explains 86% of the variance after all) and usefulness. The 7-featured polynomial fit is overfitting the data.\n",
    "\n",
    "*How do we find out which fit is the best?*\n",
    "One method would be to get more data, if possible, if we were to measure another co-solvent with a molar volume larger than TMU we could see if it is closer to the quadratic or linear fit. If we cannot measure more data (for example, in the chemical sciences there may not be another solvent with similar properties but a larger molar volume) then we use the **leave one out** approach, which is exactly what it sounds like, you remove one of the points and do the fits and see how well the fitted equation predicts the value you left out. \n",
    "\n",
    "*Is there a general rule of thumb?*\n",
    "If you have a theory that is predicting something relevant about your data, then obviously fit your data to that equation. Overwise, stick with the simpler fits. Never use a fit with more features than the number of datapoints, and generally less than 3 or 4. "
   ]
  },
  {
   "cell_type": "markdown",
   "metadata": {},
   "source": [
    "**Chemistry Conclusion**\n",
    "\n",
    "In the paper[2] this data comes from the quadratic fit was plotted, as there is no theoretical reason why the fit should have that shape, this was presented as an experimental observation. However, a major factor in the quadratic fit comes down to whether TMU is part of the trend, in which case the quadratic trend is best, but if TMU is an outlier then a straight line through the remaining points would be a good fit. \n",
    "\n",
    "The fact that molar volume can be used to explain around 80% of why different co-solvents require different molar fractions of ionic liquid to start dissolving cellulose suggests that the volume of the molecules will be important in explaining this process.\n",
    "\n",
    "In the next section we're going to continue with the insight that the co-solvent molar volume is important and try to explain what the co-solvents are doing."
   ]
  },
  {
   "cell_type": "code",
   "execution_count": null,
   "metadata": {
    "collapsed": true
   },
   "outputs": [],
   "source": []
  },
  {
   "cell_type": "code",
   "execution_count": null,
   "metadata": {
    "collapsed": true
   },
   "outputs": [],
   "source": []
  },
  {
   "cell_type": "markdown",
   "metadata": {},
   "source": [
    "# Ridge regression"
   ]
  },
  {
   "cell_type": "markdown",
   "metadata": {},
   "source": [
    "**Plan**\n",
    "\n",
    "Introduce that plotting derrived values has striaghtend the line, maybe do the fit\n",
    "\n",
    "Split data into two types: typical ie. DMSO and DMI and atypical: ie. TMU and 1MI\n",
    "\n",
    "do linear regression and ridge regression on the atypical, note the larger r2 values for linear fit.\n",
    "\n",
    "explain that ridge does regularisation which minimises the total error rather than average, this makes data more resilient to the variance in the data (I think) and avoids overfitting. \n",
    "\n",
    "Now test the atypical fits with the typical data, note that the typical data is better fit by ridge than normal, due to ridge ignoring the outliers in the atypical. \n",
    "\n",
    "Now switch, and demonstrate that as the typical has no outliers, the prediction is hte same. \n",
    "\n",
    "Conclude that ridge regression is better for predicting. Explain that they will be using ridge regression in hte exercise later. "
   ]
  },
  {
   "cell_type": "markdown",
   "metadata": {},
   "source": [
    "In short, ridge regression and lasso are regression techniques optimized for prediction, rather than inference.\n",
    "\n",
    "Normal regression gives you unbiased regression coefficients (maximum likelihood estimates \"as observed in the data-set\").\n",
    "\n",
    "Ridge and lasso regression allow you to regularize (\"shrink\") coefficients. This means that the estimated coefficients are pushed towards 0, to make them work better on new data-sets (\"optimized for prediction\"). This allows you to use complex models and avoid over-fitting at the same time.\n",
    "\n",
    "For both ridge and lasso you have to set a so-called \"meta-parameter\" that defines how aggressive regularization is performed. Meta-parameters are usually chosen by cross-validation. For Ridge regression the meta-parameter is often called \"alpha\" or \"L2\"; it simply defines regularization strength. For LASSO the meta-parameter is often called \"lambda\", or \"L1\". In contrast to Ridge, the LASSO regularization will actually set less-important predictors to 0 and help you with choosing the predictors that can be left out of the model. The two methods are combined in \"Elastic Net\" Regularization. Here, both parameters can be set, with \"L2\" defining regularization strength and \"L1\" the desired sparseness of results.\n",
    "\n",
    "Here you find a nice intro t"
   ]
  },
  {
   "cell_type": "markdown",
   "metadata": {},
   "source": [
    "Even though the linear model may be optimal for the data given to create the model, it is not necessarily guaranteed to be the best model for predictions on unseen data\n",
    "\n",
    "If our underlying data follows a relatively simple model, and the model we use is too complex for the task, what we are essentially doing is we are putting too much weight on any possible change or variance in the data. Our model is overreacting and overcompensating for even the slightest change in our data. People in the field of statistics and machine learning call this phenomenon overfitting. When you have features in your dataset that are highly linearly correlated with other features, turns out linear models will be likely to overfit.\n",
    "\n",
    "Ridge Regression, avoids over fitting by adding a penalty to models that have too large coefficients"
   ]
  },
  {
   "cell_type": "markdown",
   "metadata": {},
   "source": [
    "normal linear regression minimizes the total rather than the average loss?"
   ]
  },
  {
   "cell_type": "code",
   "execution_count": 221,
   "metadata": {
    "collapsed": false
   },
   "outputs": [
    {
     "data": {
      "text/html": [
       "<div>\n",
       "<style scoped>\n",
       "    .dataframe tbody tr th:only-of-type {\n",
       "        vertical-align: middle;\n",
       "    }\n",
       "\n",
       "    .dataframe tbody tr th {\n",
       "        vertical-align: top;\n",
       "    }\n",
       "\n",
       "    .dataframe thead th {\n",
       "        text-align: right;\n",
       "    }\n",
       "</style>\n",
       "<table border=\"1\" class=\"dataframe\">\n",
       "  <thead>\n",
       "    <tr style=\"text-align: right;\">\n",
       "      <th></th>\n",
       "      <th>vol_frac_IL</th>\n",
       "      <th>chi_cell</th>\n",
       "    </tr>\n",
       "  </thead>\n",
       "  <tbody>\n",
       "    <tr>\n",
       "      <th>0</th>\n",
       "      <td>0.131362</td>\n",
       "      <td>0.012847</td>\n",
       "    </tr>\n",
       "    <tr>\n",
       "      <th>1</th>\n",
       "      <td>0.132977</td>\n",
       "      <td>0.013031</td>\n",
       "    </tr>\n",
       "    <tr>\n",
       "      <th>2</th>\n",
       "      <td>0.262925</td>\n",
       "      <td>0.041912</td>\n",
       "    </tr>\n",
       "    <tr>\n",
       "      <th>3</th>\n",
       "      <td>0.266285</td>\n",
       "      <td>0.040630</td>\n",
       "    </tr>\n",
       "    <tr>\n",
       "      <th>4</th>\n",
       "      <td>0.264540</td>\n",
       "      <td>0.043370</td>\n",
       "    </tr>\n",
       "  </tbody>\n",
       "</table>\n",
       "</div>"
      ],
      "text/plain": [
       "   vol_frac_IL  chi_cell\n",
       "0     0.131362  0.012847\n",
       "1     0.132977  0.013031\n",
       "2     0.262925  0.041912\n",
       "3     0.266285  0.040630\n",
       "4     0.264540  0.043370"
      ]
     },
     "execution_count": 221,
     "metadata": {},
     "output_type": "execute_result"
    }
   ],
   "source": [
    "# read data into a DataFrame\n",
    "vol1MI = pd.read_csv(\"./tutorialdata/vols1MI.csv\")\n",
    "\n",
    "volDMSO = pd.read_csv(\"./tutorialdata/volsDMSO.csv\")\n",
    "volDMI = pd.read_csv(\"./tutorialdata/volsDMI.csv\")\n",
    "\n",
    "volTMU = pd.read_csv(\"./tutorialdata/volsTMU.csv\")\n",
    "vol1MI.head()"
   ]
  },
  {
   "cell_type": "markdown",
   "metadata": {},
   "source": [
    "### Put the data into a DataFrame"
   ]
  },
  {
   "cell_type": "code",
   "execution_count": 262,
   "metadata": {
    "collapsed": true
   },
   "outputs": [],
   "source": [
    "# Create pandas dataframe to store our X and y values\n",
    "df = pd.DataFrame(vol1MI)\n",
    "dfDMSO = pd.DataFrame(volDMSO)"
   ]
  },
  {
   "cell_type": "code",
   "execution_count": 263,
   "metadata": {
    "collapsed": false
   },
   "outputs": [
    {
     "data": {
      "text/html": [
       "<div>\n",
       "<style scoped>\n",
       "    .dataframe tbody tr th:only-of-type {\n",
       "        vertical-align: middle;\n",
       "    }\n",
       "\n",
       "    .dataframe tbody tr th {\n",
       "        vertical-align: top;\n",
       "    }\n",
       "\n",
       "    .dataframe thead th {\n",
       "        text-align: right;\n",
       "    }\n",
       "</style>\n",
       "<table border=\"1\" class=\"dataframe\">\n",
       "  <thead>\n",
       "    <tr style=\"text-align: right;\">\n",
       "      <th></th>\n",
       "      <th>vol_frac_IL</th>\n",
       "      <th>chi_cell</th>\n",
       "    </tr>\n",
       "  </thead>\n",
       "  <tbody>\n",
       "    <tr>\n",
       "      <th>0</th>\n",
       "      <td>0.131362</td>\n",
       "      <td>0.012847</td>\n",
       "    </tr>\n",
       "    <tr>\n",
       "      <th>1</th>\n",
       "      <td>0.132977</td>\n",
       "      <td>0.013031</td>\n",
       "    </tr>\n",
       "    <tr>\n",
       "      <th>2</th>\n",
       "      <td>0.262925</td>\n",
       "      <td>0.041912</td>\n",
       "    </tr>\n",
       "    <tr>\n",
       "      <th>3</th>\n",
       "      <td>0.266285</td>\n",
       "      <td>0.040630</td>\n",
       "    </tr>\n",
       "    <tr>\n",
       "      <th>4</th>\n",
       "      <td>0.264540</td>\n",
       "      <td>0.043370</td>\n",
       "    </tr>\n",
       "  </tbody>\n",
       "</table>\n",
       "</div>"
      ],
      "text/plain": [
       "   vol_frac_IL  chi_cell\n",
       "0     0.131362  0.012847\n",
       "1     0.132977  0.013031\n",
       "2     0.262925  0.041912\n",
       "3     0.266285  0.040630\n",
       "4     0.264540  0.043370"
      ]
     },
     "execution_count": 263,
     "metadata": {},
     "output_type": "execute_result"
    }
   ],
   "source": [
    "# Show the first five rows of our dataframe\n",
    "df.head()"
   ]
  },
  {
   "cell_type": "markdown",
   "metadata": {},
   "source": [
    "### Plot the data"
   ]
  },
  {
   "cell_type": "code",
   "execution_count": 264,
   "metadata": {
    "collapsed": false
   },
   "outputs": [
    {
     "data": {
      "text/plain": [
       "<matplotlib.axes._subplots.AxesSubplot at 0x1554fcda400>"
      ]
     },
     "execution_count": 264,
     "metadata": {},
     "output_type": "execute_result"
    },
    {
     "data": {
      "image/png": "[encoded data removed]",
      "text/plain": [
       "<Figure size 432x288 with 1 Axes>"
      ]
     },
     "metadata": {
      "needs_background": "light"
     },
     "output_type": "display_data"
    },
    {
     "data": {
      "image/png": "[encoded data removed]",
      "text/plain": [
       "<Figure size 432x288 with 1 Axes>"
      ]
     },
     "metadata": {
      "needs_background": "light"
     },
     "output_type": "display_data"
    }
   ],
   "source": [
    "df.plot.scatter(\"vol_frac_IL\", \"chi_cell\")\n",
    "dfDMSO.plot.scatter(\"vol_frac_IL\", \"chi_cell\")"
   ]
  },
  {
   "cell_type": "markdown",
   "metadata": {},
   "source": [
    "*Now the question is is this best fit by a straight line or a curve?*"
   ]
  },
  {
   "cell_type": "markdown",
   "metadata": {},
   "source": [
    "### Fit the data to a straight line and get the residuals"
   ]
  },
  {
   "cell_type": "code",
   "execution_count": 265,
   "metadata": {
    "collapsed": true
   },
   "outputs": [],
   "source": [
    "# instantiate the model\n",
    "model = LinearRegression(fit_intercept=True)\n",
    "# set up fit the model to the data\n",
    "model.fit(df[[\"vol_frac_IL\"]], df[\"chi_cell\"])\n",
    "# set up x\n",
    "xfitlin = np.linspace(0, 1)\n",
    "# predict y\n",
    "yfitlin = model.predict(xfit[:, np.newaxis])"
   ]
  },
  {
   "cell_type": "markdown",
   "metadata": {},
   "source": [
    "### Plot the fit"
   ]
  },
  {
   "cell_type": "code",
   "execution_count": 266,
   "metadata": {
    "collapsed": false
   },
   "outputs": [
    {
     "data": {
      "text/plain": [
       "[<matplotlib.lines.Line2D at 0x1554fcdf518>]"
      ]
     },
     "execution_count": 266,
     "metadata": {},
     "output_type": "execute_result"
    },
    {
     "data": {
      "image/png": "[encoded data removed]",
      "text/plain": [
       "<Figure size 432x288 with 1 Axes>"
      ]
     },
     "metadata": {
      "needs_background": "light"
     },
     "output_type": "display_data"
    }
   ],
   "source": [
    "ax = df.plot.scatter(\"vol_frac_IL\", \"chi_cell\")\n",
    "ax.plot(xfitlin, yfitlin, linestyle=\":\", color=\"black\")"
   ]
  },
  {
   "cell_type": "markdown",
   "metadata": {},
   "source": [
    "### Get the R2 value and set it equal to R2linear"
   ]
  },
  {
   "cell_type": "code",
   "execution_count": 267,
   "metadata": {
    "collapsed": true
   },
   "outputs": [],
   "source": [
    "R2linear = model.score(df[[\"vol_frac_IL\"]], df[\"chi_cell\"])"
   ]
  },
  {
   "cell_type": "code",
   "execution_count": 268,
   "metadata": {
    "collapsed": false
   },
   "outputs": [
    {
     "name": "stdout",
     "output_type": "stream",
     "text": [
      "R2 for the linear fit is: 0.9380442025748845\n"
     ]
    }
   ],
   "source": [
    "print(\"R2 for the linear fit is: {}\".format(R2linear))"
   ]
  },
  {
   "cell_type": "code",
   "execution_count": 269,
   "metadata": {
    "collapsed": false
   },
   "outputs": [
    {
     "data": {
      "text/plain": [
       "50"
      ]
     },
     "execution_count": 269,
     "metadata": {},
     "output_type": "execute_result"
    }
   ],
   "source": [
    "len(df)"
   ]
  },
  {
   "cell_type": "code",
   "execution_count": 270,
   "metadata": {
    "collapsed": true
   },
   "outputs": [],
   "source": [
    "from sklearn.kernel_ridge import KernelRidge\n",
    "clf = KernelRidge(alpha=0.50)\n",
    "clf.fit(df[[\"vol_frac_IL\"]], df[\"chi_cell\"]) \n",
    "xfitridge = np.linspace(0,1)"
   ]
  },
  {
   "cell_type": "code",
   "execution_count": 271,
   "metadata": {
    "collapsed": true
   },
   "outputs": [],
   "source": [
    "yfitridge = clf.predict(xfit[:, np.newaxis])"
   ]
  },
  {
   "cell_type": "code",
   "execution_count": 272,
   "metadata": {
    "collapsed": false
   },
   "outputs": [
    {
     "data": {
      "text/plain": [
       "[<matplotlib.lines.Line2D at 0x155513a4748>]"
      ]
     },
     "execution_count": 272,
     "metadata": {},
     "output_type": "execute_result"
    },
    {
     "data": {
      "image/png": "[encoded data removed]",
      "text/plain": [
       "<Figure size 432x288 with 1 Axes>"
      ]
     },
     "metadata": {
      "needs_background": "light"
     },
     "output_type": "display_data"
    }
   ],
   "source": [
    "ax = df.plot.scatter(\"vol_frac_IL\", \"chi_cell\")\n",
    "ax.plot(xfitridge, yfitridge, linestyle=\":\", color=\"black\")"
   ]
  },
  {
   "cell_type": "code",
   "execution_count": 273,
   "metadata": {
    "collapsed": false
   },
   "outputs": [
    {
     "data": {
      "text/plain": [
       "0.8932588001852567"
      ]
     },
     "execution_count": 273,
     "metadata": {},
     "output_type": "execute_result"
    }
   ],
   "source": [
    "clf.score(df[[\"vol_frac_IL\"]], df[\"chi_cell\"])"
   ]
  },
  {
   "cell_type": "code",
   "execution_count": 274,
   "metadata": {
    "collapsed": false
   },
   "outputs": [
    {
     "ename": "AttributeError",
     "evalue": "'KernelRidge' object has no attribute 'coeff'",
     "output_type": "error",
     "traceback": [
      "\u001b[1;31m---------------------------------------------------------------------------\u001b[0m",
      "\u001b[1;31mAttributeError\u001b[0m                            Traceback (most recent call last)",
      "\u001b[1;32m<ipython-input-274-0c78fce43463>\u001b[0m in \u001b[0;36m<module>\u001b[1;34m\u001b[0m\n\u001b[1;32m----> 1\u001b[1;33m \u001b[0mclf\u001b[0m\u001b[1;33m.\u001b[0m\u001b[0mcoeff\u001b[0m\u001b[1;33m\u001b[0m\u001b[1;33m\u001b[0m\u001b[0m\n\u001b[0m",
      "\u001b[1;31mAttributeError\u001b[0m: 'KernelRidge' object has no attribute 'coeff'"
     ]
    }
   ],
   "source": [
    "clf.coeff"
   ]
  },
  {
   "cell_type": "code",
   "execution_count": 275,
   "metadata": {
    "collapsed": false
   },
   "outputs": [
    {
     "data": {
      "text/plain": [
       "[<matplotlib.lines.Line2D at 0x155513b7ba8>]"
      ]
     },
     "execution_count": 275,
     "metadata": {},
     "output_type": "execute_result"
    },
    {
     "data": {
      "image/png": "[encoded data removed]",
      "text/plain": [
       "<Figure size 432x288 with 1 Axes>"
      ]
     },
     "metadata": {
      "needs_background": "light"
     },
     "output_type": "display_data"
    }
   ],
   "source": [
    "ax = dfDMSO.plot.scatter(\"vol_frac_IL\", \"chi_cell\")\n",
    "ax.plot(xfitlin, yfitlin, linestyle=\":\", color=\"black\")\n",
    "ax.plot(xfitridge, yfitridge, linestyle=\":\", color=\"red\")"
   ]
  },
  {
   "cell_type": "code",
   "execution_count": 311,
   "metadata": {
    "collapsed": false
   },
   "outputs": [
    {
     "data": {
      "text/plain": [
       "0.9380442025748845"
      ]
     },
     "execution_count": 311,
     "metadata": {},
     "output_type": "execute_result"
    }
   ],
   "source": []
  },
  {
   "cell_type": "code",
   "execution_count": 314,
   "metadata": {
    "collapsed": false
   },
   "outputs": [
    {
     "name": "stdout",
     "output_type": "stream",
     "text": [
      "0.94, 0.8932588001852567\n"
     ]
    }
   ],
   "source": [
    "print(\"{:.2f}, {}\".format(model.score(df[[\"vol_frac_IL\"]], df[\"chi_cell\"]),clf.score(df[[\"vol_frac_IL\"]], df[\"chi_cell\"])))"
   ]
  },
  {
   "cell_type": "code",
   "execution_count": 321,
   "metadata": {
    "collapsed": false
   },
   "outputs": [
    {
     "name": "stdout",
     "output_type": "stream",
     "text": [
      "CS\tLinear\tRidge\n",
      "1-MI\t0.94,\t 0.89\t\n",
      "DMSO\t0.93,\t 0.97\t\n"
     ]
    }
   ],
   "source": [
    "print(\"CS\\tLinear\\tRidge\")\n",
    "\n",
    "print(\"1-MI\\t{:.2f},\\t {:.2f}\\t\".format(\n",
    "    model.score(df[[\"vol_frac_IL\"]], df[\"chi_cell\"]),\n",
    "    clf.score(df[[\"vol_frac_IL\"]], df[\"chi_cell\"])))\n",
    "\n",
    "print(\"DMSO\\t{:.2f},\\t {:.2f}\\t\".format(\n",
    "    model.score(dfDMSO[[\"vol_frac_IL\"]], dfDMSO[\"chi_cell\"]),\n",
    "    clf.score(dfDMSO[[\"vol_frac_IL\"]], dfDMSO[\"chi_cell\"])))\n"
   ]
  },
  {
   "cell_type": "markdown",
   "metadata": {},
   "source": [
    "## 2nd Model"
   ]
  },
  {
   "cell_type": "markdown",
   "metadata": {},
   "source": [
    "Let's load in some data this time, and fit it"
   ]
  },
  {
   "cell_type": "code",
   "execution_count": 25,
   "metadata": {
    "collapsed": false
   },
   "outputs": [
    {
     "data": {
      "text/plain": [
       "KernelRidge(alpha=1.0, coef0=1, degree=3, gamma=None, kernel='linear',\n",
       "            kernel_params=None)"
      ]
     },
     "execution_count": 25,
     "metadata": {},
     "output_type": "execute_result"
    }
   ],
   "source": [
    "from sklearn.kernel_ridge import KernelRidge\n",
    "import numpy as np\n",
    "n_samples, n_features = 10, 5\n",
    "rng = np.random.RandomState(0)\n",
    "y = rng.randn(n_samples)\n",
    "X = rng.randn(n_samples, n_features)\n",
    "clf = KernelRidge(alpha=1.0)\n",
    "clf.fit(X, y) \n",
    "xfit = np.linspace(70, 130)"
   ]
  },
  {
   "cell_type": "code",
   "execution_count": 322,
   "metadata": {
    "collapsed": false
   },
   "outputs": [
    {
     "data": {
      "text/plain": [
       "0.025510204081632654"
      ]
     },
     "execution_count": 322,
     "metadata": {},
     "output_type": "execute_result"
    }
   ],
   "source": [
    "20.0/784.0"
   ]
  },
  {
   "cell_type": "code",
   "execution_count": null,
   "metadata": {
    "collapsed": true
   },
   "outputs": [],
   "source": []
  }
 ],
 "metadata": {
  "kernelspec": {
   "display_name": "Python [Anaconda3]",
   "language": "python",
   "name": "Python [Anaconda3]"
  },
  "language_info": {
   "codemirror_mode": {
    "name": "ipython",
    "version": 3
   },
   "file_extension": ".py",
   "mimetype": "text/x-python",
   "name": "python",
   "nbconvert_exporter": "python",
   "pygments_lexer": "ipython3",
   "version": "3.5.2"
  }
 },
 "nbformat": 4,
 "nbformat_minor": 2
}
